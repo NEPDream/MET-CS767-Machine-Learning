{
 "cells": [
  {
   "cell_type": "markdown",
   "metadata": {},
   "source": [
    "# Admit or not\n",
    "## Final Project of CS767-Machine Learning\n",
    "## by Zicheng Wang"
   ]
  },
  {
   "cell_type": "code",
   "execution_count": 1,
   "metadata": {},
   "outputs": [
    {
     "name": "stderr",
     "output_type": "stream",
     "text": [
      "Using TensorFlow backend.\n"
     ]
    }
   ],
   "source": [
    "from sklearn.metrics import r2_score\n",
    "import pandas as pd\n",
    "from sklearn.model_selection import train_test_split\n",
    "from sklearn import preprocessing\n",
    "from sklearn.linear_model import LinearRegression\n",
    "import random\n",
    "from tensorflow import keras\n",
    "from keras import Sequential\n",
    "from keras.layers import Dense\n",
    "import matplotlib.pyplot as plt"
   ]
  },
  {
   "cell_type": "markdown",
   "metadata": {},
   "source": [
    "### Prepare and clean the date"
   ]
  },
  {
   "cell_type": "code",
   "execution_count": 2,
   "metadata": {},
   "outputs": [
    {
     "data": {
      "text/html": [
       "<div>\n",
       "<style scoped>\n",
       "    .dataframe tbody tr th:only-of-type {\n",
       "        vertical-align: middle;\n",
       "    }\n",
       "\n",
       "    .dataframe tbody tr th {\n",
       "        vertical-align: top;\n",
       "    }\n",
       "\n",
       "    .dataframe thead th {\n",
       "        text-align: right;\n",
       "    }\n",
       "</style>\n",
       "<table border=\"1\" class=\"dataframe\">\n",
       "  <thead>\n",
       "    <tr style=\"text-align: right;\">\n",
       "      <th></th>\n",
       "      <th>GRE Score</th>\n",
       "      <th>TOEFL Score</th>\n",
       "      <th>University Rating</th>\n",
       "      <th>SOP</th>\n",
       "      <th>LOR</th>\n",
       "      <th>CGPA</th>\n",
       "      <th>Research</th>\n",
       "      <th>Chance of Admit</th>\n",
       "    </tr>\n",
       "  </thead>\n",
       "  <tbody>\n",
       "    <tr>\n",
       "      <th>495</th>\n",
       "      <td>332</td>\n",
       "      <td>108</td>\n",
       "      <td>5</td>\n",
       "      <td>4.5</td>\n",
       "      <td>4.0</td>\n",
       "      <td>9.02</td>\n",
       "      <td>1</td>\n",
       "      <td>0.87</td>\n",
       "    </tr>\n",
       "    <tr>\n",
       "      <th>496</th>\n",
       "      <td>337</td>\n",
       "      <td>117</td>\n",
       "      <td>5</td>\n",
       "      <td>5.0</td>\n",
       "      <td>5.0</td>\n",
       "      <td>9.87</td>\n",
       "      <td>1</td>\n",
       "      <td>0.96</td>\n",
       "    </tr>\n",
       "    <tr>\n",
       "      <th>497</th>\n",
       "      <td>330</td>\n",
       "      <td>120</td>\n",
       "      <td>5</td>\n",
       "      <td>4.5</td>\n",
       "      <td>5.0</td>\n",
       "      <td>9.56</td>\n",
       "      <td>1</td>\n",
       "      <td>0.93</td>\n",
       "    </tr>\n",
       "    <tr>\n",
       "      <th>498</th>\n",
       "      <td>312</td>\n",
       "      <td>103</td>\n",
       "      <td>4</td>\n",
       "      <td>4.0</td>\n",
       "      <td>5.0</td>\n",
       "      <td>8.43</td>\n",
       "      <td>0</td>\n",
       "      <td>0.73</td>\n",
       "    </tr>\n",
       "    <tr>\n",
       "      <th>499</th>\n",
       "      <td>327</td>\n",
       "      <td>113</td>\n",
       "      <td>4</td>\n",
       "      <td>4.5</td>\n",
       "      <td>4.5</td>\n",
       "      <td>9.04</td>\n",
       "      <td>0</td>\n",
       "      <td>0.84</td>\n",
       "    </tr>\n",
       "  </tbody>\n",
       "</table>\n",
       "</div>"
      ],
      "text/plain": [
       "     GRE Score  TOEFL Score  University Rating  SOP  LOR   CGPA  Research  \\\n",
       "495        332          108                  5  4.5   4.0  9.02         1   \n",
       "496        337          117                  5  5.0   5.0  9.87         1   \n",
       "497        330          120                  5  4.5   5.0  9.56         1   \n",
       "498        312          103                  4  4.0   5.0  8.43         0   \n",
       "499        327          113                  4  4.5   4.5  9.04         0   \n",
       "\n",
       "     Chance of Admit  \n",
       "495             0.87  \n",
       "496             0.96  \n",
       "497             0.93  \n",
       "498             0.73  \n",
       "499             0.84  "
      ]
     },
     "execution_count": 2,
     "metadata": {},
     "output_type": "execute_result"
    }
   ],
   "source": [
    "df = pd.read_csv(\n",
    "    \"C:/Users/wangz/OneDrive/BU/2019Spring/MET-CS767-Machine Learning/Project/Demo/Graduate Admissions/Admission_Predict.csv\", sep=\",\")\n",
    "serialNo = df[\"Serial No.\"].values\n",
    "df.drop([\"Serial No.\"], axis=1, inplace=True)\n",
    "df = df.rename(columns={'Chance of Admit ': 'Chance of Admit'})\n",
    "y = df[\"Chance of Admit\"].values\n",
    "x = df.drop([\"Chance of Admit\"], axis=1)\n",
    "df.tail()"
   ]
  },
  {
   "cell_type": "markdown",
   "metadata": {},
   "source": [
    "### splits the data into random train (80%) and test (20%) subsets"
   ]
  },
  {
   "cell_type": "code",
   "execution_count": 3,
   "metadata": {},
   "outputs": [
    {
     "data": {
      "text/html": [
       "<div>\n",
       "<style scoped>\n",
       "    .dataframe tbody tr th:only-of-type {\n",
       "        vertical-align: middle;\n",
       "    }\n",
       "\n",
       "    .dataframe tbody tr th {\n",
       "        vertical-align: top;\n",
       "    }\n",
       "\n",
       "    .dataframe thead th {\n",
       "        text-align: right;\n",
       "    }\n",
       "</style>\n",
       "<table border=\"1\" class=\"dataframe\">\n",
       "  <thead>\n",
       "    <tr style=\"text-align: right;\">\n",
       "      <th></th>\n",
       "      <th>GRE Score</th>\n",
       "      <th>TOEFL Score</th>\n",
       "      <th>University Rating</th>\n",
       "      <th>SOP</th>\n",
       "      <th>LOR</th>\n",
       "      <th>CGPA</th>\n",
       "      <th>Research</th>\n",
       "    </tr>\n",
       "  </thead>\n",
       "  <tbody>\n",
       "    <tr>\n",
       "      <th>240</th>\n",
       "      <td>296</td>\n",
       "      <td>101</td>\n",
       "      <td>1</td>\n",
       "      <td>2.5</td>\n",
       "      <td>3.0</td>\n",
       "      <td>7.68</td>\n",
       "      <td>0</td>\n",
       "    </tr>\n",
       "    <tr>\n",
       "      <th>175</th>\n",
       "      <td>320</td>\n",
       "      <td>111</td>\n",
       "      <td>4</td>\n",
       "      <td>4.5</td>\n",
       "      <td>3.5</td>\n",
       "      <td>8.87</td>\n",
       "      <td>1</td>\n",
       "    </tr>\n",
       "    <tr>\n",
       "      <th>481</th>\n",
       "      <td>323</td>\n",
       "      <td>107</td>\n",
       "      <td>4</td>\n",
       "      <td>3.0</td>\n",
       "      <td>2.5</td>\n",
       "      <td>8.48</td>\n",
       "      <td>1</td>\n",
       "    </tr>\n",
       "    <tr>\n",
       "      <th>360</th>\n",
       "      <td>322</td>\n",
       "      <td>110</td>\n",
       "      <td>3</td>\n",
       "      <td>4.0</td>\n",
       "      <td>5.0</td>\n",
       "      <td>8.64</td>\n",
       "      <td>1</td>\n",
       "    </tr>\n",
       "    <tr>\n",
       "      <th>471</th>\n",
       "      <td>311</td>\n",
       "      <td>103</td>\n",
       "      <td>3</td>\n",
       "      <td>2.0</td>\n",
       "      <td>4.0</td>\n",
       "      <td>8.09</td>\n",
       "      <td>0</td>\n",
       "    </tr>\n",
       "  </tbody>\n",
       "</table>\n",
       "</div>"
      ],
      "text/plain": [
       "     GRE Score  TOEFL Score  University Rating  SOP  LOR   CGPA  Research\n",
       "240        296          101                  1  2.5   3.0  7.68         0\n",
       "175        320          111                  4  4.5   3.5  8.87         1\n",
       "481        323          107                  4  3.0   2.5  8.48         1\n",
       "360        322          110                  3  4.0   5.0  8.64         1\n",
       "471        311          103                  3  2.0   4.0  8.09         0"
      ]
     },
     "execution_count": 3,
     "metadata": {},
     "output_type": "execute_result"
    }
   ],
   "source": [
    "x_train, x_test, y_train, y_test = train_test_split(\n",
    "    x, y, test_size=0.20)\n",
    "x_train.head()"
   ]
  },
  {
   "cell_type": "code",
   "execution_count": 4,
   "metadata": {},
   "outputs": [
    {
     "name": "stderr",
     "output_type": "stream",
     "text": [
      "C:\\wzc\\Tool\\MiniConda\\envs\\ml\\lib\\site-packages\\sklearn\\preprocessing\\data.py:334: DataConversionWarning: Data with input dtype int64, float64 were all converted to float64 by MinMaxScaler.\n",
      "  return self.partial_fit(X, y)\n",
      "C:\\wzc\\Tool\\MiniConda\\envs\\ml\\lib\\site-packages\\ipykernel_launcher.py:5: SettingWithCopyWarning: \n",
      "A value is trying to be set on a copy of a slice from a DataFrame.\n",
      "Try using .loc[row_indexer,col_indexer] = value instead\n",
      "\n",
      "See the caveats in the documentation: http://pandas.pydata.org/pandas-docs/stable/indexing.html#indexing-view-versus-copy\n",
      "  \"\"\"\n",
      "C:\\wzc\\Tool\\MiniConda\\envs\\ml\\lib\\site-packages\\pandas\\core\\indexing.py:543: SettingWithCopyWarning: \n",
      "A value is trying to be set on a copy of a slice from a DataFrame.\n",
      "Try using .loc[row_indexer,col_indexer] = value instead\n",
      "\n",
      "See the caveats in the documentation: http://pandas.pydata.org/pandas-docs/stable/indexing.html#indexing-view-versus-copy\n",
      "  self.obj[item] = s\n",
      "C:\\wzc\\Tool\\MiniConda\\envs\\ml\\lib\\site-packages\\ipykernel_launcher.py:6: SettingWithCopyWarning: \n",
      "A value is trying to be set on a copy of a slice from a DataFrame.\n",
      "Try using .loc[row_indexer,col_indexer] = value instead\n",
      "\n",
      "See the caveats in the documentation: http://pandas.pydata.org/pandas-docs/stable/indexing.html#indexing-view-versus-copy\n",
      "  \n",
      "C:\\wzc\\Tool\\MiniConda\\envs\\ml\\lib\\site-packages\\pandas\\core\\indexing.py:543: SettingWithCopyWarning: \n",
      "A value is trying to be set on a copy of a slice from a DataFrame.\n",
      "Try using .loc[row_indexer,col_indexer] = value instead\n",
      "\n",
      "See the caveats in the documentation: http://pandas.pydata.org/pandas-docs/stable/indexing.html#indexing-view-versus-copy\n",
      "  self.obj[item] = s\n"
     ]
    },
    {
     "data": {
      "text/html": [
       "<div>\n",
       "<style scoped>\n",
       "    .dataframe tbody tr th:only-of-type {\n",
       "        vertical-align: middle;\n",
       "    }\n",
       "\n",
       "    .dataframe tbody tr th {\n",
       "        vertical-align: top;\n",
       "    }\n",
       "\n",
       "    .dataframe thead th {\n",
       "        text-align: right;\n",
       "    }\n",
       "</style>\n",
       "<table border=\"1\" class=\"dataframe\">\n",
       "  <thead>\n",
       "    <tr style=\"text-align: right;\">\n",
       "      <th></th>\n",
       "      <th>GRE Score</th>\n",
       "      <th>TOEFL Score</th>\n",
       "      <th>University Rating</th>\n",
       "      <th>SOP</th>\n",
       "      <th>LOR</th>\n",
       "      <th>CGPA</th>\n",
       "      <th>Research</th>\n",
       "    </tr>\n",
       "  </thead>\n",
       "  <tbody>\n",
       "    <tr>\n",
       "      <th>240</th>\n",
       "      <td>0.12</td>\n",
       "      <td>0.321429</td>\n",
       "      <td>0.00</td>\n",
       "      <td>0.375</td>\n",
       "      <td>0.500</td>\n",
       "      <td>0.282958</td>\n",
       "      <td>0.0</td>\n",
       "    </tr>\n",
       "    <tr>\n",
       "      <th>175</th>\n",
       "      <td>0.60</td>\n",
       "      <td>0.678571</td>\n",
       "      <td>0.75</td>\n",
       "      <td>0.875</td>\n",
       "      <td>0.625</td>\n",
       "      <td>0.665595</td>\n",
       "      <td>1.0</td>\n",
       "    </tr>\n",
       "    <tr>\n",
       "      <th>481</th>\n",
       "      <td>0.66</td>\n",
       "      <td>0.535714</td>\n",
       "      <td>0.75</td>\n",
       "      <td>0.500</td>\n",
       "      <td>0.375</td>\n",
       "      <td>0.540193</td>\n",
       "      <td>1.0</td>\n",
       "    </tr>\n",
       "    <tr>\n",
       "      <th>360</th>\n",
       "      <td>0.64</td>\n",
       "      <td>0.642857</td>\n",
       "      <td>0.50</td>\n",
       "      <td>0.750</td>\n",
       "      <td>1.000</td>\n",
       "      <td>0.591640</td>\n",
       "      <td>1.0</td>\n",
       "    </tr>\n",
       "    <tr>\n",
       "      <th>471</th>\n",
       "      <td>0.42</td>\n",
       "      <td>0.392857</td>\n",
       "      <td>0.50</td>\n",
       "      <td>0.250</td>\n",
       "      <td>0.750</td>\n",
       "      <td>0.414791</td>\n",
       "      <td>0.0</td>\n",
       "    </tr>\n",
       "  </tbody>\n",
       "</table>\n",
       "</div>"
      ],
      "text/plain": [
       "     GRE Score  TOEFL Score  University Rating    SOP   LOR       CGPA  \\\n",
       "240       0.12     0.321429               0.00  0.375  0.500  0.282958   \n",
       "175       0.60     0.678571               0.75  0.875  0.625  0.665595   \n",
       "481       0.66     0.535714               0.75  0.500  0.375  0.540193   \n",
       "360       0.64     0.642857               0.50  0.750  1.000  0.591640   \n",
       "471       0.42     0.392857               0.50  0.250  0.750  0.414791   \n",
       "\n",
       "     Research  \n",
       "240       0.0  \n",
       "175       1.0  \n",
       "481       1.0  \n",
       "360       1.0  \n",
       "471       0.0  "
      ]
     },
     "execution_count": 4,
     "metadata": {},
     "output_type": "execute_result"
    }
   ],
   "source": [
    "# Normalization\n",
    "scalerX = preprocessing.MinMaxScaler(feature_range=(0, 1))\n",
    "# scalerX=preprocessing.Normalizer()\n",
    "# scalerX = preprocessing.StandardScaler()\n",
    "x_train[x_train.columns] = scalerX.fit_transform(x_train[x_train.columns])\n",
    "x_test[x_test.columns] = scalerX.transform(x_test[x_test.columns])\n",
    "x_train.head()"
   ]
  },
  {
   "cell_type": "markdown",
   "metadata": {},
   "source": [
    "### Perform Linear Regression"
   ]
  },
  {
   "cell_type": "code",
   "execution_count": 5,
   "metadata": {},
   "outputs": [
    {
     "data": {
      "text/plain": [
       "LinearRegression(copy_X=True, fit_intercept=True, n_jobs=None,\n",
       "         normalize=False)"
      ]
     },
     "execution_count": 5,
     "metadata": {},
     "output_type": "execute_result"
    }
   ],
   "source": [
    "lr = LinearRegression()\n",
    "lr.fit(x_train, y_train)"
   ]
  },
  {
   "cell_type": "markdown",
   "metadata": {},
   "source": [
    "### Perform Neural Network"
   ]
  },
  {
   "cell_type": "markdown",
   "metadata": {},
   "source": [
    "#### Define the Neural Network model"
   ]
  },
  {
   "cell_type": "code",
   "execution_count": 6,
   "metadata": {},
   "outputs": [
    {
     "name": "stdout",
     "output_type": "stream",
     "text": [
      "WARNING:tensorflow:From C:\\wzc\\Tool\\MiniConda\\envs\\ml\\lib\\site-packages\\tensorflow\\python\\framework\\op_def_library.py:263: colocate_with (from tensorflow.python.framework.ops) is deprecated and will be removed in a future version.\n",
      "Instructions for updating:\n",
      "Colocations handled automatically by placer.\n"
     ]
    }
   ],
   "source": [
    "def NNmodel():\n",
    "    model = Sequential()\n",
    "    model.add(Dense(6, input_dim=len(x_train.keys()), activation='elu'))\n",
    "    model.add(Dense(3, activation='elu'))\n",
    "    model.add(Dense(1))\n",
    "    model.compile(loss='mean_squared_error',\n",
    "                  optimizer='RMSprop', metrics=['mae', 'mse'])\n",
    "    return model\n",
    "\n",
    "model = NNmodel()"
   ]
  },
  {
   "cell_type": "markdown",
   "metadata": {},
   "source": [
    "#### Start training Neural Network model"
   ]
  },
  {
   "cell_type": "code",
   "execution_count": 7,
   "metadata": {},
   "outputs": [
    {
     "name": "stdout",
     "output_type": "stream",
     "text": [
      "WARNING:tensorflow:From C:\\wzc\\Tool\\MiniConda\\envs\\ml\\lib\\site-packages\\tensorflow\\python\\ops\\math_ops.py:3066: to_int32 (from tensorflow.python.ops.math_ops) is deprecated and will be removed in a future version.\n",
      "Instructions for updating:\n",
      "Use tf.cast instead.\n",
      "Epoch 1/20\n",
      "400/400 [==============================] - 1s 1ms/step - loss: 0.1345 - mean_absolute_error: 0.2460 - mean_squared_error: 0.1345\n",
      "Epoch 2/20\n",
      "400/400 [==============================] - 0s 570us/step - loss: 0.0058 - mean_absolute_error: 0.0574 - mean_squared_error: 0.0058\n",
      "Epoch 3/20\n",
      "400/400 [==============================] - 0s 703us/step - loss: 0.0043 - mean_absolute_error: 0.0483 - mean_squared_error: 0.0043\n",
      "Epoch 4/20\n",
      "400/400 [==============================] - 0s 640us/step - loss: 0.0040 - mean_absolute_error: 0.0456 - mean_squared_error: 0.0040\n",
      "Epoch 5/20\n",
      "400/400 [==============================] - 0s 638us/step - loss: 0.0040 - mean_absolute_error: 0.0446 - mean_squared_error: 0.0040\n",
      "Epoch 6/20\n",
      "400/400 [==============================] - 0s 524us/step - loss: 0.0038 - mean_absolute_error: 0.0443 - mean_squared_error: 0.0038\n",
      "Epoch 7/20\n",
      "400/400 [==============================] - 0s 623us/step - loss: 0.0039 - mean_absolute_error: 0.0456 - mean_squared_error: 0.0039\n",
      "Epoch 8/20\n",
      "400/400 [==============================] - 0s 624us/step - loss: 0.0037 - mean_absolute_error: 0.0449 - mean_squared_error: 0.0037\n",
      "Epoch 9/20\n",
      "400/400 [==============================] - 0s 765us/step - loss: 0.0039 - mean_absolute_error: 0.0448 - mean_squared_error: 0.0039\n",
      "Epoch 10/20\n",
      "400/400 [==============================] - 0s 593us/step - loss: 0.0039 - mean_absolute_error: 0.0449 - mean_squared_error: 0.0039\n",
      "Epoch 11/20\n",
      "400/400 [==============================] - 0s 607us/step - loss: 0.0038 - mean_absolute_error: 0.0441 - mean_squared_error: 0.0038\n",
      "Epoch 12/20\n",
      "400/400 [==============================] - 0s 638us/step - loss: 0.0038 - mean_absolute_error: 0.0451 - mean_squared_error: 0.0038\n",
      "Epoch 13/20\n",
      "400/400 [==============================] - 0s 636us/step - loss: 0.0038 - mean_absolute_error: 0.0448 - mean_squared_error: 0.0038\n",
      "Epoch 14/20\n",
      "400/400 [==============================] - 0s 595us/step - loss: 0.0038 - mean_absolute_error: 0.0453 - mean_squared_error: 0.0038\n",
      "Epoch 15/20\n",
      "400/400 [==============================] - 0s 559us/step - loss: 0.0038 - mean_absolute_error: 0.0444 - mean_squared_error: 0.0038\n",
      "Epoch 16/20\n",
      "400/400 [==============================] - 0s 605us/step - loss: 0.0038 - mean_absolute_error: 0.0447 - mean_squared_error: 0.0038\n",
      "Epoch 17/20\n",
      "400/400 [==============================] - 0s 611us/step - loss: 0.0038 - mean_absolute_error: 0.0441 - mean_squared_error: 0.0038\n",
      "Epoch 18/20\n",
      "400/400 [==============================] - 0s 609us/step - loss: 0.0039 - mean_absolute_error: 0.0454 - mean_squared_error: 0.0039\n",
      "Epoch 19/20\n",
      "400/400 [==============================] - 0s 607us/step - loss: 0.0038 - mean_absolute_error: 0.0442 - mean_squared_error: 0.0038\n",
      "Epoch 20/20\n",
      "400/400 [==============================] - 0s 586us/step - loss: 0.0038 - mean_absolute_error: 0.0448 - mean_squared_error: 0.0038\n"
     ]
    }
   ],
   "source": [
    "history = model.fit(x_train, y_train, epochs=20, batch_size=2)"
   ]
  },
  {
   "cell_type": "markdown",
   "metadata": {},
   "source": [
    "#### Plot the curve of loss"
   ]
  },
  {
   "cell_type": "code",
   "execution_count": 8,
   "metadata": {},
   "outputs": [
    {
     "data": {
      "image/png": "[encoded data removed]",
      "text/plain": [
       "<Figure size 432x288 with 1 Axes>"
      ]
     },
     "metadata": {
      "needs_background": "light"
     },
     "output_type": "display_data"
    }
   ],
   "source": [
    "plt.plot(history.history['loss'])\n",
    "plt.title('Model loss')\n",
    "plt.ylabel('Loss')\n",
    "plt.xlabel('Epoch')\n",
    "plt.legend(['Train'], loc='upper left')\n",
    "plt.show()"
   ]
  },
  {
   "cell_type": "markdown",
   "metadata": {},
   "source": [
    "### Test the predict result accurancy"
   ]
  },
  {
   "cell_type": "markdown",
   "metadata": {},
   "source": [
    "#### R square score of Linear Regression and Neural Network"
   ]
  },
  {
   "cell_type": "code",
   "execution_count": 9,
   "metadata": {},
   "outputs": [
    {
     "name": "stdout",
     "output_type": "stream",
     "text": [
      "r_square score of LR:  0.8116290293119448\n",
      "r_square score of NN:  0.7967727487365126\n"
     ]
    }
   ],
   "source": [
    "y_test_lr = lr.predict(x_test)\n",
    "print(\"r_square score of LR: \", r2_score(y_test, y_test_lr))\n",
    "y_test_nn = model.predict(x_test)\n",
    "print(\"r_square score of NN: \", r2_score(y_test, y_test_nn))"
   ]
  },
  {
   "cell_type": "markdown",
   "metadata": {},
   "source": [
    "#### Random new input and compare two predictions"
   ]
  },
  {
   "cell_type": "code",
   "execution_count": 10,
   "metadata": {},
   "outputs": [
    {
     "name": "stdout",
     "output_type": "stream",
     "text": [
      "The predicted chance of  66 th person in the test subset by using Linear Regression:  0.6157900466406454\n",
      "The predicted chance of  66 th person in the test subset by using Nerual Network:  0.6157900466406454\n",
      "Real chance of  66 th person in the test set to be admitted:  0.61  -> The predicted result by using Linear Regression:  0.6157900466406454\n",
      "Real chance of  66 th person in the test set to be admitted:  0.61  -> The predicted result by using Neutal Network:  0.6471256017684937\n"
     ]
    }
   ],
   "source": [
    "num_random = random.randint(1, len(x_test.values))\n",
    "print(\"The predicted chance of \", num_random, \"th person in the test subset by using Linear Regression: \", float(lr.predict(x_test.iloc[[num_random], :])))\n",
    "print(\"The predicted chance of \", num_random, \"th person in the test subset by using Nerual Network: \", float(lr.predict(x_test.iloc[[num_random], :])))\n",
    "print(\"Real chance of \", num_random, \"th person in the test set to be admitted: \", str(y_test[num_random]),\n",
    "      \" -> The predicted result by using Linear Regression: \", float(lr.predict(x_test.iloc[[num_random], :])))\n",
    "print(\"Real chance of \", num_random, \"th person in the test set to be admitted: \", str(y_test[num_random]),\n",
    "      \" -> The predicted result by using Neutal Network: \", float(model.predict(x_test.iloc[[num_random], :])))"
   ]
  }
 ],
 "metadata": {
  "kernelspec": {
   "display_name": "Python 3",
   "language": "python",
   "name": "python3"
  },
  "language_info": {
   "codemirror_mode": {
    "name": "ipython",
    "version": 3
   },
   "file_extension": ".py",
   "mimetype": "text/x-python",
   "name": "python",
   "nbconvert_exporter": "python",
   "pygments_lexer": "ipython3",
   "version": "3.6.8"
  }
 },
 "nbformat": 4,
 "nbformat_minor": 2
}
